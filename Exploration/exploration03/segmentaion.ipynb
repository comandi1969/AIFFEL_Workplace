{
 "cells": [
  {
   "cell_type": "code",
   "execution_count": 1,
   "id": "2c5185c6",
   "metadata": {},
   "outputs": [
    {
     "name": "stdout",
     "output_type": "stream",
     "text": [
      "4.5.3\n",
      "0.7.1\n"
     ]
    }
   ],
   "source": [
    "# importlib: 사용자가 파이썬의 import 시스템과 상호작용하기 위한 API를 제공하는 내장 라이브러리\n",
    "# 사용자는 import 함수의 구현 내용과, 실행에 필요한 하위 함수들을 이용해 필요에 맞는 임포터를 직접 구현하거나 임포트 관련 기능들을 자유롭게 사용할 수 있음\n",
    "# importlib.metadata: 설치된 패키지 메타 데이터에 대한 접근을 제공하는 라이브러리.\n",
    "# 해당 코드 블럭에서는 importlib.metadata 안에 있는 version() 함수를 이용하여 pixellib 라이브러리의 버전을 확인\n",
    "\n",
    "from importlib.metadata import version\n",
    "import cv2\n",
    "import pixellib\n",
    "\n",
    "print(cv2.__version__)\n",
    "print(version('pixellib'))"
   ]
  },
  {
   "cell_type": "code",
   "execution_count": null,
   "id": "cfc60142",
   "metadata": {},
   "outputs": [],
   "source": []
  }
 ],
 "metadata": {
  "kernelspec": {
   "display_name": "Python 3 (ipykernel)",
   "language": "python",
   "name": "python3"
  },
  "language_info": {
   "codemirror_mode": {
    "name": "ipython",
    "version": 3
   },
   "file_extension": ".py",
   "mimetype": "text/x-python",
   "name": "python",
   "nbconvert_exporter": "python",
   "pygments_lexer": "ipython3",
   "version": "3.9.7"
  }
 },
 "nbformat": 4,
 "nbformat_minor": 5
}
