{
  "nbformat": 4,
  "nbformat_minor": 0,
  "metadata": {
    "colab": {
      "provenance": [],
      "gpuType": "T4",
      "authorship_tag": "ABX9TyNHJ4/Pr47O/hPyHPqD2BsK",
      "include_colab_link": true
    },
    "kernelspec": {
      "name": "python3",
      "display_name": "Python 3"
    },
    "language_info": {
      "name": "python"
    },
    "accelerator": "GPU",
    "widgets": {
      "application/vnd.jupyter.widget-state+json": {
        "e9aee47207fd48a6a5b3ac6f2413718c": {
          "model_module": "@jupyter-widgets/controls",
          "model_name": "HBoxModel",
          "model_module_version": "1.5.0",
          "state": {
            "_dom_classes": [],
            "_model_module": "@jupyter-widgets/controls",
            "_model_module_version": "1.5.0",
            "_model_name": "HBoxModel",
            "_view_count": null,
            "_view_module": "@jupyter-widgets/controls",
            "_view_module_version": "1.5.0",
            "_view_name": "HBoxView",
            "box_style": "",
            "children": [
              "IPY_MODEL_b65ee96aedb44b798d5045afc070a2f6",
              "IPY_MODEL_fc2b810ab8f44e92acd58fa127c6ab28",
              "IPY_MODEL_a4065ef0e4034046bc2792ba7c353fa4"
            ],
            "layout": "IPY_MODEL_aa7937eb0502420db585820696da0171"
          }
        },
        "b65ee96aedb44b798d5045afc070a2f6": {
          "model_module": "@jupyter-widgets/controls",
          "model_name": "HTMLModel",
          "model_module_version": "1.5.0",
          "state": {
            "_dom_classes": [],
            "_model_module": "@jupyter-widgets/controls",
            "_model_module_version": "1.5.0",
            "_model_name": "HTMLModel",
            "_view_count": null,
            "_view_module": "@jupyter-widgets/controls",
            "_view_module_version": "1.5.0",
            "_view_name": "HTMLView",
            "description": "",
            "description_tooltip": null,
            "layout": "IPY_MODEL_075c91b2e58542fe89e6065744a0e0f7",
            "placeholder": "​",
            "style": "IPY_MODEL_27f8b472128b4556a92249353634cf58",
            "value": "Dl Completed...: 100%"
          }
        },
        "fc2b810ab8f44e92acd58fa127c6ab28": {
          "model_module": "@jupyter-widgets/controls",
          "model_name": "FloatProgressModel",
          "model_module_version": "1.5.0",
          "state": {
            "_dom_classes": [],
            "_model_module": "@jupyter-widgets/controls",
            "_model_module_version": "1.5.0",
            "_model_name": "FloatProgressModel",
            "_view_count": null,
            "_view_module": "@jupyter-widgets/controls",
            "_view_module_version": "1.5.0",
            "_view_name": "ProgressView",
            "bar_style": "success",
            "description": "",
            "description_tooltip": null,
            "layout": "IPY_MODEL_2debc817b548408fb8dfcd101be201f0",
            "max": 5,
            "min": 0,
            "orientation": "horizontal",
            "style": "IPY_MODEL_b9893eabad7b4404aa61e088120c1cc3",
            "value": 5
          }
        },
        "a4065ef0e4034046bc2792ba7c353fa4": {
          "model_module": "@jupyter-widgets/controls",
          "model_name": "HTMLModel",
          "model_module_version": "1.5.0",
          "state": {
            "_dom_classes": [],
            "_model_module": "@jupyter-widgets/controls",
            "_model_module_version": "1.5.0",
            "_model_name": "HTMLModel",
            "_view_count": null,
            "_view_module": "@jupyter-widgets/controls",
            "_view_module_version": "1.5.0",
            "_view_name": "HTMLView",
            "description": "",
            "description_tooltip": null,
            "layout": "IPY_MODEL_c3bfb34c32584b4294e9886812c4fdad",
            "placeholder": "​",
            "style": "IPY_MODEL_413e51c3c2f3469cbda61a141fd91d3e",
            "value": " 5/5 [00:19&lt;00:00,  4.34s/ file]"
          }
        },
        "aa7937eb0502420db585820696da0171": {
          "model_module": "@jupyter-widgets/base",
          "model_name": "LayoutModel",
          "model_module_version": "1.2.0",
          "state": {
            "_model_module": "@jupyter-widgets/base",
            "_model_module_version": "1.2.0",
            "_model_name": "LayoutModel",
            "_view_count": null,
            "_view_module": "@jupyter-widgets/base",
            "_view_module_version": "1.2.0",
            "_view_name": "LayoutView",
            "align_content": null,
            "align_items": null,
            "align_self": null,
            "border": null,
            "bottom": null,
            "display": null,
            "flex": null,
            "flex_flow": null,
            "grid_area": null,
            "grid_auto_columns": null,
            "grid_auto_flow": null,
            "grid_auto_rows": null,
            "grid_column": null,
            "grid_gap": null,
            "grid_row": null,
            "grid_template_areas": null,
            "grid_template_columns": null,
            "grid_template_rows": null,
            "height": null,
            "justify_content": null,
            "justify_items": null,
            "left": null,
            "margin": null,
            "max_height": null,
            "max_width": null,
            "min_height": null,
            "min_width": null,
            "object_fit": null,
            "object_position": null,
            "order": null,
            "overflow": null,
            "overflow_x": null,
            "overflow_y": null,
            "padding": null,
            "right": null,
            "top": null,
            "visibility": null,
            "width": null
          }
        },
        "075c91b2e58542fe89e6065744a0e0f7": {
          "model_module": "@jupyter-widgets/base",
          "model_name": "LayoutModel",
          "model_module_version": "1.2.0",
          "state": {
            "_model_module": "@jupyter-widgets/base",
            "_model_module_version": "1.2.0",
            "_model_name": "LayoutModel",
            "_view_count": null,
            "_view_module": "@jupyter-widgets/base",
            "_view_module_version": "1.2.0",
            "_view_name": "LayoutView",
            "align_content": null,
            "align_items": null,
            "align_self": null,
            "border": null,
            "bottom": null,
            "display": null,
            "flex": null,
            "flex_flow": null,
            "grid_area": null,
            "grid_auto_columns": null,
            "grid_auto_flow": null,
            "grid_auto_rows": null,
            "grid_column": null,
            "grid_gap": null,
            "grid_row": null,
            "grid_template_areas": null,
            "grid_template_columns": null,
            "grid_template_rows": null,
            "height": null,
            "justify_content": null,
            "justify_items": null,
            "left": null,
            "margin": null,
            "max_height": null,
            "max_width": null,
            "min_height": null,
            "min_width": null,
            "object_fit": null,
            "object_position": null,
            "order": null,
            "overflow": null,
            "overflow_x": null,
            "overflow_y": null,
            "padding": null,
            "right": null,
            "top": null,
            "visibility": null,
            "width": null
          }
        },
        "27f8b472128b4556a92249353634cf58": {
          "model_module": "@jupyter-widgets/controls",
          "model_name": "DescriptionStyleModel",
          "model_module_version": "1.5.0",
          "state": {
            "_model_module": "@jupyter-widgets/controls",
            "_model_module_version": "1.5.0",
            "_model_name": "DescriptionStyleModel",
            "_view_count": null,
            "_view_module": "@jupyter-widgets/base",
            "_view_module_version": "1.2.0",
            "_view_name": "StyleView",
            "description_width": ""
          }
        },
        "2debc817b548408fb8dfcd101be201f0": {
          "model_module": "@jupyter-widgets/base",
          "model_name": "LayoutModel",
          "model_module_version": "1.2.0",
          "state": {
            "_model_module": "@jupyter-widgets/base",
            "_model_module_version": "1.2.0",
            "_model_name": "LayoutModel",
            "_view_count": null,
            "_view_module": "@jupyter-widgets/base",
            "_view_module_version": "1.2.0",
            "_view_name": "LayoutView",
            "align_content": null,
            "align_items": null,
            "align_self": null,
            "border": null,
            "bottom": null,
            "display": null,
            "flex": null,
            "flex_flow": null,
            "grid_area": null,
            "grid_auto_columns": null,
            "grid_auto_flow": null,
            "grid_auto_rows": null,
            "grid_column": null,
            "grid_gap": null,
            "grid_row": null,
            "grid_template_areas": null,
            "grid_template_columns": null,
            "grid_template_rows": null,
            "height": null,
            "justify_content": null,
            "justify_items": null,
            "left": null,
            "margin": null,
            "max_height": null,
            "max_width": null,
            "min_height": null,
            "min_width": null,
            "object_fit": null,
            "object_position": null,
            "order": null,
            "overflow": null,
            "overflow_x": null,
            "overflow_y": null,
            "padding": null,
            "right": null,
            "top": null,
            "visibility": null,
            "width": null
          }
        },
        "b9893eabad7b4404aa61e088120c1cc3": {
          "model_module": "@jupyter-widgets/controls",
          "model_name": "ProgressStyleModel",
          "model_module_version": "1.5.0",
          "state": {
            "_model_module": "@jupyter-widgets/controls",
            "_model_module_version": "1.5.0",
            "_model_name": "ProgressStyleModel",
            "_view_count": null,
            "_view_module": "@jupyter-widgets/base",
            "_view_module_version": "1.2.0",
            "_view_name": "StyleView",
            "bar_color": null,
            "description_width": ""
          }
        },
        "c3bfb34c32584b4294e9886812c4fdad": {
          "model_module": "@jupyter-widgets/base",
          "model_name": "LayoutModel",
          "model_module_version": "1.2.0",
          "state": {
            "_model_module": "@jupyter-widgets/base",
            "_model_module_version": "1.2.0",
            "_model_name": "LayoutModel",
            "_view_count": null,
            "_view_module": "@jupyter-widgets/base",
            "_view_module_version": "1.2.0",
            "_view_name": "LayoutView",
            "align_content": null,
            "align_items": null,
            "align_self": null,
            "border": null,
            "bottom": null,
            "display": null,
            "flex": null,
            "flex_flow": null,
            "grid_area": null,
            "grid_auto_columns": null,
            "grid_auto_flow": null,
            "grid_auto_rows": null,
            "grid_column": null,
            "grid_gap": null,
            "grid_row": null,
            "grid_template_areas": null,
            "grid_template_columns": null,
            "grid_template_rows": null,
            "height": null,
            "justify_content": null,
            "justify_items": null,
            "left": null,
            "margin": null,
            "max_height": null,
            "max_width": null,
            "min_height": null,
            "min_width": null,
            "object_fit": null,
            "object_position": null,
            "order": null,
            "overflow": null,
            "overflow_x": null,
            "overflow_y": null,
            "padding": null,
            "right": null,
            "top": null,
            "visibility": null,
            "width": null
          }
        },
        "413e51c3c2f3469cbda61a141fd91d3e": {
          "model_module": "@jupyter-widgets/controls",
          "model_name": "DescriptionStyleModel",
          "model_module_version": "1.5.0",
          "state": {
            "_model_module": "@jupyter-widgets/controls",
            "_model_module_version": "1.5.0",
            "_model_name": "DescriptionStyleModel",
            "_view_count": null,
            "_view_module": "@jupyter-widgets/base",
            "_view_module_version": "1.2.0",
            "_view_name": "StyleView",
            "description_width": ""
          }
        }
      }
    }
  },
  "cells": [
    {
      "cell_type": "markdown",
      "metadata": {
        "id": "view-in-github",
        "colab_type": "text"
      },
      "source": [
        "<a href=\"https://colab.research.google.com/github/LaVita337/AIFFEL_Workplace/blob/main/Quest05/imgCalssificationVGG16.ipynb\" target=\"_parent\"><img src=\"https://colab.research.google.com/assets/colab-badge.svg\" alt=\"Open In Colab\"/></a>"
      ]
    },
    {
      "cell_type": "code",
      "source": [
        "# 필요한 라이브러리 불러오기\n",
        "import tensorflow as tf\n",
        "from tensorflow import keras\n",
        "import tensorflow_datasets as tfds\n",
        "\n",
        "from tensorflow.keras import applications,layers,models,optimizers\n",
        "\n",
        "from tensorflow.keras.applications import VGG16\n",
        "from tensorflow.keras.layers import Dense, Dropout, BatchNormalization\n",
        "from tensorflow.keras.models import Model\n",
        "from tensorflow.keras.optimizers import Adam\n",
        "import matplotlib.pyplot as plt"
      ],
      "metadata": {
        "id": "8S7UwAmC1qgG"
      },
      "execution_count": null,
      "outputs": []
    },
    {
      "cell_type": "code",
      "source": [
        "# Step 1. 데이터셋 내려받기\n",
        "(dataset_train, dataset_validate, dataset_test), dataset_info = tfds.load(\n",
        "    'tf_flowers',\n",
        "    split=['train[:80%]', 'train[80%:90%]', 'train[90%:]'],\n",
        "    as_supervised=True,\n",
        "    with_info=True\n",
        ")\n"
      ],
      "metadata": {
        "colab": {
          "base_uri": "https://localhost:8080/",
          "height": 85,
          "referenced_widgets": [
            "e9aee47207fd48a6a5b3ac6f2413718c",
            "b65ee96aedb44b798d5045afc070a2f6",
            "fc2b810ab8f44e92acd58fa127c6ab28",
            "a4065ef0e4034046bc2792ba7c353fa4",
            "aa7937eb0502420db585820696da0171",
            "075c91b2e58542fe89e6065744a0e0f7",
            "27f8b472128b4556a92249353634cf58",
            "2debc817b548408fb8dfcd101be201f0",
            "b9893eabad7b4404aa61e088120c1cc3",
            "c3bfb34c32584b4294e9886812c4fdad",
            "413e51c3c2f3469cbda61a141fd91d3e"
          ]
        },
        "id": "ui6WU0rr1uTP",
        "outputId": "c119a67e-34b8-49bd-90de-2bcc1ef03295"
      },
      "execution_count": null,
      "outputs": [
        {
          "output_type": "stream",
          "name": "stdout",
          "text": [
            "Downloading and preparing dataset 218.21 MiB (download: 218.21 MiB, generated: 221.83 MiB, total: 440.05 MiB) to /root/tensorflow_datasets/tf_flowers/3.0.1...\n"
          ]
        },
        {
          "output_type": "display_data",
          "data": {
            "text/plain": [
              "Dl Completed...:   0%|          | 0/5 [00:00<?, ? file/s]"
            ],
            "application/vnd.jupyter.widget-view+json": {
              "version_major": 2,
              "version_minor": 0,
              "model_id": "e9aee47207fd48a6a5b3ac6f2413718c"
            }
          },
          "metadata": {}
        },
        {
          "output_type": "stream",
          "name": "stdout",
          "text": [
            "Dataset tf_flowers downloaded and prepared to /root/tensorflow_datasets/tf_flowers/3.0.1. Subsequent calls will reuse this data.\n"
          ]
        }
      ]
    },
    {
      "cell_type": "code",
      "source": [
        "# Step 2. 데이터셋 준비하기\n",
        "def format_image(image, label):\n",
        "    image = tf.image.resize(image, (224, 224)) / 255.0\n",
        "    return image, label\n",
        "\n",
        "train_batches = dataset_train.map(format_image).batch(32).shuffle(1024).prefetch(1)\n",
        "validation_batches = dataset_validate.map(format_image).batch(32).shuffle(1024).prefetch(1)\n",
        "test_batches = dataset_test.map(format_image).batch(32).shuffle(1024).prefetch(1)"
      ],
      "metadata": {
        "id": "zWBJWXCA1wIT"
      },
      "execution_count": null,
      "outputs": []
    },
    {
      "cell_type": "code",
      "source": [
        "# Step 3. 모델 설계하기\n",
        "base_model = VGG16(input_shape=(224, 224, 3), include_top=False, weights='imagenet', pooling='avg')\n",
        "base_model.trainable = False  # 기존의 VGG16 모델의 가중치를 그대로 사용합니다.\n",
        "\n",
        "x = base_model.output\n",
        "x = Dense(512, activation='relu')(x)\n",
        "x = Dropout(0.5)(x)\n",
        "x = BatchNormalization()(x)\n",
        "predictions = Dense(5, activation='softmax')(x)\n",
        "\n",
        "model = Model(inputs=base_model.input, outputs=predictions)\n",
        "\n",
        "model.compile(optimizer=Adam(lr=0.0001), loss='sparse_categorical_crossentropy', metrics=['accuracy'])"
      ],
      "metadata": {
        "colab": {
          "base_uri": "https://localhost:8080/"
        },
        "id": "MI0x9EDB1xlp",
        "outputId": "3026276f-a38b-4902-c1d8-f86dbd40d1d6"
      },
      "execution_count": null,
      "outputs": [
        {
          "output_type": "stream",
          "name": "stdout",
          "text": [
            "Downloading data from https://storage.googleapis.com/tensorflow/keras-applications/vgg16/vgg16_weights_tf_dim_ordering_tf_kernels_notop.h5\n",
            "58889256/58889256 [==============================] - 4s 0us/step\n"
          ]
        },
        {
          "output_type": "stream",
          "name": "stderr",
          "text": [
            "WARNING:absl:`lr` is deprecated in Keras optimizer, please use `learning_rate` or use the legacy optimizer, e.g.,tf.keras.optimizers.legacy.Adam.\n"
          ]
        }
      ]
    },
    {
      "cell_type": "code",
      "source": [
        "# Step 4. 모델 학습시키기\n",
        "history = model.fit(train_batches, validation_data=validation_batches, epochs=5)"
      ],
      "metadata": {
        "colab": {
          "base_uri": "https://localhost:8080/"
        },
        "id": "RM6RyABS1y_p",
        "outputId": "a818d40d-0516-485f-9ef1-c66713bdab80"
      },
      "execution_count": null,
      "outputs": [
        {
          "output_type": "stream",
          "name": "stdout",
          "text": [
            "Epoch 1/5\n",
            "92/92 [==============================] - 39s 205ms/step - loss: 0.9752 - accuracy: 0.6342 - val_loss: 1.0187 - val_accuracy: 0.6921\n",
            "Epoch 2/5\n",
            "92/92 [==============================] - 14s 137ms/step - loss: 0.6726 - accuracy: 0.7582 - val_loss: 0.7812 - val_accuracy: 0.7875\n",
            "Epoch 3/5\n",
            "92/92 [==============================] - 14s 139ms/step - loss: 0.5935 - accuracy: 0.7895 - val_loss: 0.6540 - val_accuracy: 0.7847\n",
            "Epoch 4/5\n",
            "92/92 [==============================] - 15s 151ms/step - loss: 0.5660 - accuracy: 0.8021 - val_loss: 0.5766 - val_accuracy: 0.8147\n",
            "Epoch 5/5\n",
            "92/92 [==============================] - 15s 143ms/step - loss: 0.5339 - accuracy: 0.8116 - val_loss: 0.5215 - val_accuracy: 0.8093\n"
          ]
        }
      ]
    },
    {
      "cell_type": "code",
      "source": [
        "# Step 5. 모델 성능 평가하기\n",
        "# 학습 과정 시각화하기\n",
        "plt.figure(figsize=(10, 5))\n",
        "plt.subplot(1, 2, 1)\n",
        "plt.plot(history.history['accuracy'], label='Training Accuracy')\n",
        "plt.plot(history.history['val_accuracy'], label='Validation Accuracy')\n",
        "plt.legend()\n",
        "plt.title('Accuracy Over Epochs')\n",
        "\n",
        "plt.subplot(1, 2, 2)\n",
        "plt.plot(history.history['loss'], label='Training Loss')\n",
        "plt.plot(history.history['val_loss'], label='Validation Loss')\n",
        "plt.legend()\n",
        "plt.title('Loss Over Epochs')\n",
        "plt.show()\n",
        "\n",
        "# 모델의 예측 결과 확인하기\n",
        "for images, labels in test_batches.take(1):\n",
        "    predictions = model.predict(images)\n",
        "    print(predictions)"
      ],
      "metadata": {
        "colab": {
          "base_uri": "https://localhost:8080/",
          "height": 1000
        },
        "id": "EWizeWxO10BH",
        "outputId": "c71a55d2-045b-4e74-8115-e52f89911b09"
      },
      "execution_count": null,
      "outputs": [
        {
          "output_type": "display_data",
          "data": {
            "text/plain": [
              "<Figure size 1000x500 with 2 Axes>"
            ],
            "image/png": "[encoded data removed]"
          },
          "metadata": {}
        },
        {
          "output_type": "stream",
          "name": "stdout",
          "text": [
            "1/1 [==============================] - 0s 192ms/step\n",
            "[[4.36796546e-02 2.37288121e-02 2.02719104e-02 9.03224587e-01\n",
            "  9.09516308e-03]\n",
            " [1.78781003e-01 1.26962960e-01 1.14352539e-01 4.61798877e-01\n",
            "  1.18104652e-01]\n",
            " [3.72927357e-03 4.38753553e-02 7.71937296e-02 2.42166780e-02\n",
            "  8.50984931e-01]\n",
            " [7.43049756e-02 5.52220568e-02 8.15588161e-02 6.61596144e-03\n",
            "  7.82298148e-01]\n",
            " [2.35528797e-01 2.65085846e-01 3.89851183e-02 4.16873038e-01\n",
            "  4.35271673e-02]\n",
            " [4.12590466e-02 9.71808210e-02 1.20333984e-01 4.13825065e-02\n",
            "  6.99843585e-01]\n",
            " [5.82762877e-04 1.00126560e-03 9.59134102e-03 1.29474036e-03\n",
            "  9.87529874e-01]\n",
            " [1.91007257e-02 2.80394293e-02 8.04332793e-02 6.76007643e-02\n",
            "  8.04825842e-01]\n",
            " [1.21982826e-03 3.70144262e-03 9.83088434e-01 3.22517985e-03\n",
            "  8.76515079e-03]\n",
            " [6.89742684e-01 8.67876559e-02 3.64806689e-02 1.79049194e-01\n",
            "  7.93973822e-03]\n",
            " [1.06384315e-01 1.11897655e-01 1.08349703e-01 6.26088798e-01\n",
            "  4.72795814e-02]\n",
            " [2.72390842e-02 9.54412445e-02 5.56121409e-01 2.25439128e-02\n",
            "  2.98654377e-01]\n",
            " [5.99229679e-05 1.53686720e-04 9.89186585e-01 1.80252595e-04\n",
            "  1.04195541e-02]\n",
            " [1.17414854e-01 7.82681763e-01 3.67993265e-02 2.47063171e-02\n",
            "  3.83977480e-02]\n",
            " [2.36885226e-03 1.61079187e-02 9.29740429e-01 1.12986343e-03\n",
            "  5.06529696e-02]\n",
            " [4.26430888e-02 4.85827364e-02 2.01365918e-01 2.62889881e-02\n",
            "  6.81119263e-01]\n",
            " [3.13683562e-02 3.66351575e-01 5.42388141e-01 3.37372459e-02\n",
            "  2.61547137e-02]\n",
            " [6.19321596e-03 9.79664803e-01 1.94725755e-04 1.38853081e-02\n",
            "  6.18400882e-05]\n",
            " [3.38481739e-04 3.08742863e-04 1.73522197e-02 9.24762629e-04\n",
            "  9.81075764e-01]\n",
            " [6.98912680e-01 2.48058468e-01 7.69428490e-03 4.03888635e-02\n",
            "  4.94570704e-03]\n",
            " [2.97379820e-03 5.33905951e-03 2.31396347e-01 8.58240109e-03\n",
            "  7.51708388e-01]\n",
            " [7.90803432e-01 7.59726763e-02 1.31414933e-02 6.89883307e-02\n",
            "  5.10940030e-02]\n",
            " [7.78936036e-03 9.84384537e-01 1.68119732e-03 5.64341806e-03\n",
            "  5.01527102e-04]\n",
            " [1.81970134e-01 3.12366933e-01 3.98493022e-01 4.85792644e-02\n",
            "  5.85906953e-02]\n",
            " [2.08187923e-02 2.65817512e-02 2.60216534e-01 1.10733248e-01\n",
            "  5.81649721e-01]\n",
            " [1.89880393e-02 9.78971481e-01 2.56053667e-04 1.59872533e-03\n",
            "  1.85699260e-04]\n",
            " [9.34783556e-03 2.24084109e-02 5.06204553e-02 1.32203251e-02\n",
            "  9.04402971e-01]\n",
            " [1.40286647e-02 6.52843155e-03 5.94588280e-01 4.32937853e-02\n",
            "  3.41560841e-01]\n",
            " [1.97408665e-02 2.58030966e-02 8.28732014e-01 1.74631458e-02\n",
            "  1.08260810e-01]\n",
            " [2.40395181e-02 6.63727373e-02 8.41054082e-01 1.50424556e-03\n",
            "  6.70293644e-02]\n",
            " [9.80652794e-02 6.25527918e-01 2.46125311e-02 2.21867993e-01\n",
            "  2.99263187e-02]\n",
            " [9.60181653e-01 2.20096000e-02 3.51523608e-03 7.06915045e-03\n",
            "  7.22436514e-03]]\n"
          ]
        }
      ]
    },
    {
      "cell_type": "code",
      "execution_count": null,
      "metadata": {
        "id": "OIvhi-261nKP"
      },
      "outputs": [],
      "source": [
        "# Step 6. 모델 활용하기\n",
        "def predict_image(model, image_path):\n",
        "    image = tf.image.decode_jpeg(tf.io.read_file(image_path))\n",
        "    image = tf.image.resize(image, (224, 224)) / 255.0\n",
        "    predicted_label = model.predict(tf.expand_dims(image, 0))\n",
        "    return predicted_label"
      ]
    }
  ]
}